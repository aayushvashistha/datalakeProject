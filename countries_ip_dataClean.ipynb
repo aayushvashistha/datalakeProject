{
  "nbformat": 4,
  "nbformat_minor": 0,
  "metadata": {
    "colab": {
      "provenance": [],
      "authorship_tag": "ABX9TyNM1B0DMMOdMyAQG0aXxQDa",
      "include_colab_link": true
    },
    "kernelspec": {
      "name": "python3",
      "display_name": "Python 3"
    },
    "language_info": {
      "name": "python"
    }
  },
  "cells": [
    {
      "cell_type": "markdown",
      "metadata": {
        "id": "view-in-github",
        "colab_type": "text"
      },
      "source": [
        "<a href=\"https://colab.research.google.com/github/aayushvashistha/datalakeProject/blob/main/countries_ip_dataClean.ipynb\" target=\"_parent\"><img src=\"https://colab.research.google.com/assets/colab-badge.svg\" alt=\"Open In Colab\"/></a>"
      ]
    },
    {
      "cell_type": "code",
      "execution_count": 2,
      "metadata": {
        "colab": {
          "base_uri": "https://localhost:8080/",
          "height": 219
        },
        "id": "6MY-Eozkmd7N",
        "outputId": "e099ac40-256f-4d0d-eadd-5fd44c75e301"
      },
      "outputs": [
        {
          "output_type": "execute_result",
          "data": {
            "text/plain": [
              "<pyspark.sql.session.SparkSession at 0x7f0f20586550>"
            ],
            "text/html": [
              "\n",
              "            <div>\n",
              "                <p><b>SparkSession - in-memory</b></p>\n",
              "                \n",
              "        <div>\n",
              "            <p><b>SparkContext</b></p>\n",
              "\n",
              "            <p><a href=\"http://5b61710b1742:4040\">Spark UI</a></p>\n",
              "\n",
              "            <dl>\n",
              "              <dt>Version</dt>\n",
              "                <dd><code>v3.1.1</code></dd>\n",
              "              <dt>Master</dt>\n",
              "                <dd><code>local[*]</code></dd>\n",
              "              <dt>AppName</dt>\n",
              "                <dd><code>pyspark-shell</code></dd>\n",
              "            </dl>\n",
              "        </div>\n",
              "        \n",
              "            </div>\n",
              "        "
            ]
          },
          "metadata": {},
          "execution_count": 2
        }
      ],
      "source": [
        "!apt-get install openjdk-8-jdk-headless -qq > /dev/null\n",
        "!wget -q http://archive.apache.org/dist/spark/spark-3.1.1/spark-3.1.1-bin-hadoop3.2.tgz\n",
        "!tar xf spark-3.1.1-bin-hadoop3.2.tgz\n",
        "!pip install -q findspark\n",
        "import os\n",
        "os.environ[\"JAVA_HOME\"] = \"/usr/lib/jvm/java-8-openjdk-amd64\"\n",
        "os.environ[\"SPARK_HOME\"] = \"/content/spark-3.1.1-bin-hadoop3.2\"\n",
        "import findspark\n",
        "findspark.init()\n",
        "from pyspark.sql import SparkSession\n",
        "spark = SparkSession.builder.master(\"local[*]\").getOrCreate()\n",
        "spark"
      ]
    },
    {
      "cell_type": "code",
      "source": [
        "from pyspark.sql.functions import col, lit, when\n",
        "df = spark.read.csv(\"challenge.csv\", header= True, inferSchema= True)"
      ],
      "metadata": {
        "id": "p0uNuKFkC87p"
      },
      "execution_count": 112,
      "outputs": []
    },
    {
      "cell_type": "code",
      "source": [
        "df = df.na.drop()\n",
        "df = df.dropDuplicates()\n",
        "df.show()"
      ],
      "metadata": {
        "colab": {
          "base_uri": "https://localhost:8080/"
        },
        "id": "2pWG03W3Dh0A",
        "outputId": "0719523c-6b81-46f6-f07d-17c01ed1005b"
      },
      "execution_count": 47,
      "outputs": [
        {
          "output_type": "stream",
          "name": "stdout",
          "text": [
            "+---------------+------------------+-----------------+----------+\n",
            "|     ip_address|           Country|      Domain Name|Bytes_used|\n",
            "+---------------+------------------+-----------------+----------+\n",
            "|   246.97.176.4|Dominican Republic|      spotify.com|       541|\n",
            "|  227.24.96.107|       Philippines|           gov.uk|       429|\n",
            "| 35.104.255.113|              Laos|          nba.com|       707|\n",
            "|  163.229.14.95|       Philippines|   prnewswire.com|       846|\n",
            "| 155.191.132.94|             Syria|       dion.ne.jp|       610|\n",
            "|  22.48.127.120|         Indonesia|elegantthemes.com|       298|\n",
            "|  241.69.89.147|         Indonesia|       uol.com.br|       741|\n",
            "|227.187.247.203|            Greece|         about.me|       620|\n",
            "|   33.8.169.147|            Sweden|     marriott.com|       935|\n",
            "|   33.194.7.236|            Malawi|       usnews.com|        84|\n",
            "| 17.248.153.253|           Ukraine|   eventbrite.com|       748|\n",
            "|  34.145.145.62|             China|   cloudflare.com|       540|\n",
            "|253.251.243.161|             China|      harvard.edu|       607|\n",
            "|  130.60.227.91|            Latvia|     omniture.com|       724|\n",
            "|   1.208.49.132|      Saudi Arabia|     freewebs.com|       322|\n",
            "| 224.218.20.152|           Ukraine|  miibeian.gov.cn|       601|\n",
            "| 37.138.177.130|            France|     bandcamp.com|       101|\n",
            "| 252.150.88.122|            France|          aol.com|       369|\n",
            "|  212.40.170.97|             China|     redcross.org|        10|\n",
            "|  48.219.231.50|            Brazil|        google.nl|       805|\n",
            "+---------------+------------------+-----------------+----------+\n",
            "only showing top 20 rows\n",
            "\n"
          ]
        }
      ]
    },
    {
      "cell_type": "code",
      "source": [
        "df.printSchema()"
      ],
      "metadata": {
        "id": "EbHcN6Y4YKAQ",
        "outputId": "7c911b55-e55f-4e3a-bca8-11fcedba221d",
        "colab": {
          "base_uri": "https://localhost:8080/"
        }
      },
      "execution_count": 48,
      "outputs": [
        {
          "output_type": "stream",
          "name": "stdout",
          "text": [
            "root\n",
            " |-- ip_address: string (nullable = true)\n",
            " |-- Country: string (nullable = true)\n",
            " |-- Domain Name: string (nullable = true)\n",
            " |-- Bytes_used: integer (nullable = true)\n",
            "\n"
          ]
        }
      ]
    },
    {
      "cell_type": "code",
      "source": [
        "import pyspark.sql.functions as sqlfunc\n",
        "df1 = df.withColumn(\"is country mexico\", when(col(\"Country\") == \"Mexico\", \"yes\").otherwise(\"no\"))\n",
        "df1.show()"
      ],
      "metadata": {
        "id": "C9odGomzbR_5",
        "outputId": "c6dd1e8e-5358-4cc7-bfbf-84c4701568c3",
        "colab": {
          "base_uri": "https://localhost:8080/"
        }
      },
      "execution_count": 113,
      "outputs": [
        {
          "output_type": "stream",
          "name": "stdout",
          "text": [
            "+---------------+--------------+-----------------+----------+-----------------+\n",
            "|     ip_address|       Country|      Domain Name|Bytes_used|is country mexico|\n",
            "+---------------+--------------+-----------------+----------+-----------------+\n",
            "|  52.81.192.172|         China| odnoklassniki.ru|       463|               no|\n",
            "| 119.239.207.13|         China|         youtu.be|        51|               no|\n",
            "|  68.69.217.210|         China|        adobe.com|        10|               no|\n",
            "|   7.191.21.223|      Bulgaria|     linkedin.com|       853|               no|\n",
            "|   211.13.10.68|     Indonesia|          hud.gov|        29|               no|\n",
            "|   239.80.21.97|      Suriname|       smh.com.au|       218|               no|\n",
            "|106.214.106.233|       Jamaica|    amazonaws.com|        95|               no|\n",
            "| 127.242.24.138|         China| surveymonkey.com|       123|               no|\n",
            "|     99.2.6.139|Czech Republic|     geocities.jp|       322|               no|\n",
            "|   237.54.11.63|         China|       amazon.com|        83|               no|\n",
            "| 252.141.157.25|         Japan|      cornell.edu|       374|               no|\n",
            "|185.220.128.248|       Belgium|       weebly.com|       389|               no|\n",
            "|   151.77.19.45|   Afghanistan|independent.co.uk|       282|               no|\n",
            "|  9.161.158.225|     Indonesia|    bloglines.com|       726|               no|\n",
            "| 156.144.61.155|Czech Republic|   slideshare.net|       657|               no|\n",
            "|   8.96.188.151|     Indonesia|          ibm.com|       517|               no|\n",
            "|      5.72.7.65|        Mexico|         youtu.be|       877|              yes|\n",
            "|227.110.112.144|       Croatia|         ehow.com|       287|               no|\n",
            "|    81.71.28.97|      Thailand|          last.fm|       588|               no|\n",
            "|  9.255.129.184|      Thailand|          mtv.com|       114|               no|\n",
            "+---------------+--------------+-----------------+----------+-----------------+\n",
            "only showing top 20 rows\n",
            "\n"
          ]
        }
      ]
    },
    {
      "cell_type": "code",
      "source": [
        "df2 = df1.groupBy(\"is country mexico\").agg(sqlfunc.sum(\"Bytes_used\").alias(\"total bytes used\"))\n",
        "df2.show()"
      ],
      "metadata": {
        "id": "FMMnPeOFbdBI",
        "outputId": "fc25325f-0f54-4149-cdb1-c42b0b9a06d9",
        "colab": {
          "base_uri": "https://localhost:8080/"
        }
      },
      "execution_count": 114,
      "outputs": [
        {
          "output_type": "stream",
          "name": "stdout",
          "text": [
            "+-----------------+----------------+\n",
            "|is country mexico|total bytes used|\n",
            "+-----------------+----------------+\n",
            "|               no|          508076|\n",
            "|              yes|            6293|\n",
            "+-----------------+----------------+\n",
            "\n"
          ]
        }
      ]
    },
    {
      "cell_type": "code",
      "source": [
        "df3 = df1.groupBy(\"Country\").agg(sqlfunc.countDistinct(df1.ip_address).alias(\"number_of_ips\"))\n",
        "df3.sort(col(\"number_of_ips\").desc()).show()"
      ],
      "metadata": {
        "id": "drRzzaq0nigU",
        "outputId": "8753ce2b-0dff-402f-b3ea-052a616f738c",
        "colab": {
          "base_uri": "https://localhost:8080/"
        }
      },
      "execution_count": 121,
      "outputs": [
        {
          "output_type": "stream",
          "name": "stdout",
          "text": [
            "+--------------+-------------+\n",
            "|       Country|number_of_ips|\n",
            "+--------------+-------------+\n",
            "|         China|          172|\n",
            "|     Indonesia|          114|\n",
            "|   Philippines|           65|\n",
            "|        Russia|           56|\n",
            "|        Brazil|           35|\n",
            "|        Poland|           31|\n",
            "|        Sweden|           28|\n",
            "|         Japan|           25|\n",
            "|Czech Republic|           23|\n",
            "|      Portugal|           23|\n",
            "|        France|           21|\n",
            "|          Peru|           19|\n",
            "|      Colombia|           17|\n",
            "| United States|           15|\n",
            "|     Argentina|           14|\n",
            "|       Ukraine|           14|\n",
            "|        Mexico|           13|\n",
            "|      Thailand|           12|\n",
            "|        Canada|           11|\n",
            "|       Nigeria|           11|\n",
            "+--------------+-------------+\n",
            "only showing top 20 rows\n",
            "\n"
          ]
        }
      ]
    },
    {
      "cell_type": "code",
      "source": [
        "df1.registerTempTable(\"challenge\")"
      ],
      "metadata": {
        "id": "eWlunRxBkPQe"
      },
      "execution_count": 96,
      "outputs": []
    },
    {
      "cell_type": "code",
      "source": [
        "query = spark.sql(\"SELECT Country, COUNT(DISTINCT ip_address) AS distinct_ip_address FROM challenge GROUP BY Country\")\n",
        "query.show()\n",
        "# df3 = query.groupBy(\"Country\"))"
      ],
      "metadata": {
        "id": "zejbDlB9hcbl",
        "outputId": "61537dfd-18b3-49aa-a403-b7509b8b3cbb",
        "colab": {
          "base_uri": "https://localhost:8080/"
        }
      },
      "execution_count": 110,
      "outputs": [
        {
          "output_type": "stream",
          "name": "stdout",
          "text": [
            "+-----------+-------------------+\n",
            "|    Country|distinct_ip_address|\n",
            "+-----------+-------------------+\n",
            "|       Chad|                  1|\n",
            "|     Russia|                 56|\n",
            "|   Paraguay|                  1|\n",
            "|      Yemen|                  1|\n",
            "|     Sweden|                 28|\n",
            "|Philippines|                 65|\n",
            "|   Malaysia|                  5|\n",
            "|     Turkey|                  1|\n",
            "|     Malawi|                  2|\n",
            "|    Germany|                  5|\n",
            "|    Comoros|                  1|\n",
            "|Afghanistan|                  5|\n",
            "|     Rwanda|                  1|\n",
            "|      Sudan|                  1|\n",
            "|     France|                 21|\n",
            "|     Greece|                  8|\n",
            "|  Sri Lanka|                  3|\n",
            "|   Dominica|                  1|\n",
            "|  Argentina|                 14|\n",
            "|    Belgium|                  1|\n",
            "+-----------+-------------------+\n",
            "only showing top 20 rows\n",
            "\n"
          ]
        }
      ]
    }
  ]
}